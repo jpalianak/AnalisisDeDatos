{
 "cells": [
  {
   "cell_type": "markdown",
   "metadata": {
    "id": "11eNNakJFQLr"
   },
   "source": [
    "# Analisis de datos\n",
    "## Introducción a Python II\n",
    "## Índice:\n",
    "\n",
    "1. [Condicionales](#Ejercicios-con-condicionales)\n",
    "2. [Ciclos](#Ejercicios-con-Ciclos)\n",
    "3. [Funciones](#Ejercicios-con-funciones)\n",
    "4. [Ejercicios Extras](#Ejercicios-Extras)\n",
    "\n",
    "\n",
    "<b>Nota:</b>\n",
    "Esta práctica contiene ejercicios que cubren los diferentes temas vistos en la intrudicción de Python como lenguaje de programación. En las celdas de código, donde vea $<CODIGO>$, debera completar con el código que resuelva lo que se pide. En la mayoria de los ejercicios se debera recurrir a las referencias técnicas para resolver los enunciados. Bajo cada seccion esta el link a las referencias oficiales de python, sin embargo no dude en usar otras fuentes.\n",
    "\n",
    "<hr>\n",
    "\n",
    "## Ejercicios con condicionales</b>\n",
    "referencias: https://www.w3schools.com/python/python_conditions.asp\n"
   ]
  },
  {
   "cell_type": "markdown",
   "metadata": {
    "id": "Ee3I3_WgFQLz"
   },
   "source": [
    "1. Programa el comportamiento de un modulo de un numero, es decir, si el numero es negativo le cambia el signo. Si el numero es positivo lo deja tal como esta"
   ]
  },
  {
   "cell_type": "code",
   "execution_count": 2,
   "metadata": {
    "id": "aR-6ARbVFQLz"
   },
   "outputs": [
    {
     "name": "stdout",
     "output_type": "stream",
     "text": [
      "some random values: [10, 9, 8, 7, 6, 5, 4, 3, 2, 1, 0, 1, 2, 3, 4]\n"
     ]
    }
   ],
   "source": [
    " def foo(a):\n",
    "  temp = a\n",
    "  if a < 0:\n",
    "    temp = -a\n",
    "  return temp\n",
    "\n",
    "print(\"some random values:\", [foo(num) for num in range(-10,5)])\n"
   ]
  },
  {
   "cell_type": "markdown",
   "metadata": {
    "id": "yednlXB2FQL0"
   },
   "source": [
    "2. El siguiente codigo imprime por pantalla si un numero es divisible por otro. Este codigo tiene un error, descubralo y arreglelo."
   ]
  },
  {
   "cell_type": "code",
   "execution_count": 15,
   "metadata": {
    "id": "G3ud9PyrFQL0"
   },
   "outputs": [
    {
     "name": "stdout",
     "output_type": "stream",
     "text": [
      "5 divide a  10\n"
     ]
    }
   ],
   "source": [
    "#@title Es divisible? {run: 'auto'}\n",
    "\n",
    "a = 10 #@param {type:\"slider\", min:0, max:15, step:1}\n",
    "b = 5 #@param {type:\"slider\", min:0, max:15, step:1}\n",
    "\n",
    "if b != 0:\n",
    "    if a%b == 0:\n",
    "        print(b,'divide a ',a)\n",
    "    else:\n",
    "        print(b,'NO divide a ',a)\n"
   ]
  },
  {
   "cell_type": "markdown",
   "metadata": {
    "id": "ENPyyPqcDtCX"
   },
   "source": [
    "***--> justifique*** b debe ser distinto de cero"
   ]
  },
  {
   "cell_type": "markdown",
   "metadata": {
    "id": "Y8RGQzGwFQL1"
   },
   "source": [
    "3. Escriba un código que imprima por pantalla si un numero es divisible por 3 y por 2. Debe imprimir todas las condiciones posibles, es decir, si es divisible por uno y no por el otro."
   ]
  },
  {
   "cell_type": "code",
   "execution_count": 21,
   "metadata": {
    "id": "-ISewtpgFQL1"
   },
   "outputs": [
    {
     "name": "stdout",
     "output_type": "stream",
     "text": [
      "582 es divisible por 2 y por 3\n",
      "867 es divisible por 3\n",
      "782 es divisible por 2\n",
      "64 es divisible por 2\n",
      "261 es divisible por 3\n",
      "120 es divisible por 2 y por 3\n",
      "507 es divisible por 3\n"
     ]
    }
   ],
   "source": [
    "from random import seed, randint\n",
    "seed(1)\n",
    "\n",
    "def func(self):\n",
    "    if value%2 == 0 and value%3 == 0:\n",
    "        print(value, 'es divisible por 2 y por 3')\n",
    "    elif value%2 == 0 and value%3 != 0:\n",
    "        print(value, 'es divisible por 2')\n",
    "    elif value%3 == 0 and value%2 != 0:\n",
    "        print(value, 'es divisible por 3')\n",
    "\n",
    "for _ in range(10):\n",
    "\tvalue = randint(0,1000)\n",
    "\tfunc(value)"
   ]
  },
  {
   "cell_type": "markdown",
   "metadata": {
    "id": "e-65LGFdFQL1"
   },
   "source": [
    "4. Escriba un código para dado un entero del 1 al 7 imprima el dia de la semana. Ahora escriba tambien una solución que resuelva lo mismo pero no use ningun if"
   ]
  },
  {
   "cell_type": "code",
   "execution_count": 49,
   "metadata": {
    "id": "3qYN4_qdFQL2"
   },
   "outputs": [
    {
     "name": "stdout",
     "output_type": "stream",
     "text": [
      "Domingo\n",
      "Domingo\n"
     ]
    }
   ],
   "source": [
    "num_dia = 1\n",
    "\n",
    "if num_dia == 1:\n",
    "    print('Domingo')\n",
    "elif num_dia == 2:\n",
    "    print('Lunes')\n",
    "elif num_dia == 3:\n",
    "    print('Martes')\n",
    "elif num_dia == 4:\n",
    "    print('Miercoles')\n",
    "elif num_dia == 5:\n",
    "    print('Jueves')\n",
    "elif num_dia == 6:\n",
    "    print('Viernes')\n",
    "elif num_dia == 7:\n",
    "    print('Sabado')\n",
    "    \n",
    "dia_sem = ['Domingo','Lunes','Martes','Miercoles','Jueves','Viernes','Sabado']\n",
    "\n",
    "print(dia_sem[num_dia-1])"
   ]
  },
  {
   "cell_type": "markdown",
   "metadata": {
    "id": "3R06nn_-FQL2"
   },
   "source": [
    "## Ejercicios con Ciclos\n",
    "referencias: https://www.w3schools.com/python/python_for_loops.asp"
   ]
  },
  {
   "cell_type": "markdown",
   "metadata": {
    "id": "7H_y477rFQL2"
   },
   "source": [
    "5. Escriba un codigo que imprima los numeros del uno al 10 un numero por linea."
   ]
  },
  {
   "cell_type": "code",
   "execution_count": 60,
   "metadata": {
    "id": "7GRmpq54FQL3"
   },
   "outputs": [
    {
     "name": "stdout",
     "output_type": "stream",
     "text": [
      "1\n",
      " 2\n",
      " 3\n",
      " 4\n",
      " 5\n",
      " 6\n",
      " 7\n",
      " 8\n",
      " 9\n",
      " 10\n",
      "\n"
     ]
    }
   ],
   "source": [
    "print('1\\n','2\\n','3\\n','4\\n','5\\n','6\\n','7\\n','8\\n','9\\n','10\\n')"
   ]
  },
  {
   "cell_type": "markdown",
   "metadata": {
    "id": "COMN-MOYFQL3"
   },
   "source": [
    "6. Imprima lo mismo del ejercicio anterior pero usando for y range.\n",
    "\n"
   ]
  },
  {
   "cell_type": "code",
   "execution_count": null,
   "metadata": {
    "id": "VCiLym_1FQL3"
   },
   "outputs": [],
   "source": [
    "for i in range(10):\n",
    "    print(i,'\\n')"
   ]
  },
  {
   "cell_type": "markdown",
   "metadata": {
    "id": "p69i6TC4FQL3"
   },
   "source": [
    "7. Guarde en una lista todos los numeros menores a 100 que sean pares"
   ]
  },
  {
   "cell_type": "code",
   "execution_count": 65,
   "metadata": {
    "id": "Xn-9IQArFQL4"
   },
   "outputs": [
    {
     "name": "stdout",
     "output_type": "stream",
     "text": [
      "[0, 2, 4, 6, 8, 10, 12, 14, 16, 18, 20, 22, 24, 26, 28, 30, 32, 34, 36, 38, 40, 42, 44, 46, 48, 50, 52, 54, 56, 58, 60, 62, 64, 66, 68, 70, 72, 74, 76, 78, 80, 82, 84, 86, 88, 90, 92, 94, 96, 98]\n"
     ]
    }
   ],
   "source": [
    "numeros_pares_menores_a_100 = []\n",
    "\n",
    "numeros_pares_menores_a_100 = [x for x in range(100) if x%2==0]\n",
    "        \n",
    "# Imprimo los numeros pares menores a 100 \n",
    "print(numeros_pares_menores_a_100)"
   ]
  },
  {
   "cell_type": "markdown",
   "metadata": {
    "id": "Neo-tf0bFQL4"
   },
   "source": [
    "8. Calcule todos los divisores de un número $n$. Pruebe distintos valores para la variable $n$. Pruebe escribirlos con un $while$ y con un $for$"
   ]
  },
  {
   "cell_type": "code",
   "execution_count": 72,
   "metadata": {
    "id": "WGx9fN7MFQL4"
   },
   "outputs": [
    {
     "name": "stdout",
     "output_type": "stream",
     "text": [
      "[1, 2, 4, 5, 10, 20, 25, 50, 100]\n"
     ]
    }
   ],
   "source": [
    "n = 100\n",
    "lista_de_divisores_while = []\n",
    "i = 1\n",
    "\n",
    "while i<=n:\n",
    "    if n%i==0:\n",
    "        lista_de_divisores_while.append(i)\n",
    "    i += 1\n",
    "\n",
    "# Imprimo los divisores de a 1 \n",
    "print(lista_de_divisores_while)"
   ]
  },
  {
   "cell_type": "code",
   "execution_count": 74,
   "metadata": {
    "id": "RFGjH1s9gKvJ"
   },
   "outputs": [
    {
     "name": "stdout",
     "output_type": "stream",
     "text": [
      "[1, 3, 41, 123]\n"
     ]
    }
   ],
   "source": [
    "n = 123\n",
    "lista_de_divisores_for = []\n",
    "\n",
    "for i in range(1,n+1):\n",
    "     if n%i==0:\n",
    "        lista_de_divisores_for.append(i)\n",
    "\n",
    "# Imprimo los divisores de a 1 \n",
    "print(lista_de_divisores_for)"
   ]
  },
  {
   "cell_type": "markdown",
   "metadata": {
    "id": "sGXocW-ZFQL4"
   },
   "source": [
    "9. Imprima por pantalla todos los numeros primos menos a $n$, pruebe con diferentes valores de $n$"
   ]
  },
  {
   "cell_type": "code",
   "execution_count": 4,
   "metadata": {
    "id": "qq2mYs3CFQL4"
   },
   "outputs": [
    {
     "name": "stdout",
     "output_type": "stream",
     "text": [
      "[3, 5, 7, 11, 13, 17, 19, 23, 29, 31, 37, 41, 43, 47, 53, 59, 61, 67, 71, 73, 79, 83, 89, 97]\n"
     ]
    }
   ],
   "source": [
    "num = 100\n",
    "list_prim = []\n",
    "\n",
    "if num <= 1:\n",
    "    print('No existen numeros primos menores a ', num)\n",
    "elif num == 2:\n",
    "    list_prim = [1]\n",
    "else:\n",
    "    for i in range(3,num+1):\n",
    "        np = 0\n",
    "        for j in range(2,i):\n",
    "            if i%j==0:\n",
    "                np = 1\n",
    "        if np == 0:\n",
    "            list_prim.append(i)\n",
    "\n",
    "print(list_prim)"
   ]
  },
  {
   "cell_type": "markdown",
   "metadata": {
    "id": "tGPc-zTAFQL5"
   },
   "source": [
    "## Ejercicios con funciones\n",
    "Algunos de los siguientes ejercicios fueron tomados de diferentes recursos como: \n",
    "* https://github.com/zhiwehu/Python-programming-exercises/blob/master/100%2B%20Python%20challenging%20programming%20exercises.txt\n",
    "* https://github.com/darkprinx/100-plus-Python-programming-exercises-extended\n",
    "* https://projecteuler.net/"
   ]
  },
  {
   "cell_type": "markdown",
   "metadata": {
    "id": "fLjA79YcFQL5"
   },
   "source": [
    "10. Encapsule las funciones de los ejercicios 8 y 9 de modo que tomen el parámetro $n$. Experimente con diferentes parámetros"
   ]
  },
  {
   "cell_type": "code",
   "execution_count": 5,
   "metadata": {
    "id": "j74MiWEZFQL5"
   },
   "outputs": [
    {
     "name": "stdout",
     "output_type": "stream",
     "text": [
      "[3, 5, 7, 11, 13, 17, 19, 23, 29, 31, 37, 41, 43, 47, 53, 59, 61, 67, 71, 73, 79, 83, 89, 97]\n",
      "[1, 2, 5, 10, 25, 50]\n"
     ]
    }
   ],
   "source": [
    "def num_primo(num):\n",
    "\n",
    "    list_prim = []\n",
    "\n",
    "    if num <= 1:\n",
    "        print('No existen numeros primos menores a ', num)\n",
    "    elif num == 2:\n",
    "        list_prim = [1]\n",
    "    else:\n",
    "        for i in range(3,num+1):\n",
    "            np = 0\n",
    "            for j in range(2,i):\n",
    "                if i%j==0:\n",
    "                    np = 1\n",
    "            if np == 0:\n",
    "                list_prim.append(i)\n",
    "\n",
    "    print(list_prim)\n",
    "    \n",
    "def div(n):\n",
    "\n",
    "    lista_de_divisores_for = []\n",
    "\n",
    "    for i in range(1,n+1):\n",
    "        if n%i==0:\n",
    "            lista_de_divisores_for.append(i)\n",
    "\n",
    "    print(lista_de_divisores_for)\n",
    "\n",
    "num_primo(100)\n",
    "div(50)"
   ]
  },
  {
   "cell_type": "markdown",
   "metadata": {
    "id": "kDiBB7ggFQL5"
   },
   "source": [
    "11. Escriba una funcion que calcule todos los numeros divisibles por 7 pero no multiplos de 5 entre 1000 y 5000.\n",
    "\n",
    "La funcion debe devolver una lista con estos numeros\n",
    "Hints: Puede usar la funcion range(desde,hasta)\n"
   ]
  },
  {
   "cell_type": "code",
   "execution_count": 27,
   "metadata": {
    "id": "T7eY6bSh_Txu"
   },
   "outputs": [
    {
     "data": {
      "text/plain": [
       "[1001,\n",
       " 1008,\n",
       " 1022,\n",
       " 1029,\n",
       " 1036,\n",
       " 1043,\n",
       " 1057,\n",
       " 1064,\n",
       " 1071,\n",
       " 1078,\n",
       " 1092,\n",
       " 1099,\n",
       " 1106,\n",
       " 1113,\n",
       " 1127,\n",
       " 1134,\n",
       " 1141,\n",
       " 1148,\n",
       " 1162,\n",
       " 1169,\n",
       " 1176,\n",
       " 1183,\n",
       " 1197,\n",
       " 1204,\n",
       " 1211,\n",
       " 1218,\n",
       " 1232,\n",
       " 1239,\n",
       " 1246,\n",
       " 1253,\n",
       " 1267,\n",
       " 1274,\n",
       " 1281,\n",
       " 1288,\n",
       " 1302,\n",
       " 1309,\n",
       " 1316,\n",
       " 1323,\n",
       " 1337,\n",
       " 1344,\n",
       " 1351,\n",
       " 1358,\n",
       " 1372,\n",
       " 1379,\n",
       " 1386,\n",
       " 1393,\n",
       " 1407,\n",
       " 1414,\n",
       " 1421,\n",
       " 1428,\n",
       " 1442,\n",
       " 1449,\n",
       " 1456,\n",
       " 1463,\n",
       " 1477,\n",
       " 1484,\n",
       " 1491,\n",
       " 1498,\n",
       " 1512,\n",
       " 1519,\n",
       " 1526,\n",
       " 1533,\n",
       " 1547,\n",
       " 1554,\n",
       " 1561,\n",
       " 1568,\n",
       " 1582,\n",
       " 1589,\n",
       " 1596,\n",
       " 1603,\n",
       " 1617,\n",
       " 1624,\n",
       " 1631,\n",
       " 1638,\n",
       " 1652,\n",
       " 1659,\n",
       " 1666,\n",
       " 1673,\n",
       " 1687,\n",
       " 1694,\n",
       " 1701,\n",
       " 1708,\n",
       " 1722,\n",
       " 1729,\n",
       " 1736,\n",
       " 1743,\n",
       " 1757,\n",
       " 1764,\n",
       " 1771,\n",
       " 1778,\n",
       " 1792,\n",
       " 1799,\n",
       " 1806,\n",
       " 1813,\n",
       " 1827,\n",
       " 1834,\n",
       " 1841,\n",
       " 1848,\n",
       " 1862,\n",
       " 1869,\n",
       " 1876,\n",
       " 1883,\n",
       " 1897,\n",
       " 1904,\n",
       " 1911,\n",
       " 1918,\n",
       " 1932,\n",
       " 1939,\n",
       " 1946,\n",
       " 1953,\n",
       " 1967,\n",
       " 1974,\n",
       " 1981,\n",
       " 1988,\n",
       " 2002,\n",
       " 2009,\n",
       " 2016,\n",
       " 2023,\n",
       " 2037,\n",
       " 2044,\n",
       " 2051,\n",
       " 2058,\n",
       " 2072,\n",
       " 2079,\n",
       " 2086,\n",
       " 2093,\n",
       " 2107,\n",
       " 2114,\n",
       " 2121,\n",
       " 2128,\n",
       " 2142,\n",
       " 2149,\n",
       " 2156,\n",
       " 2163,\n",
       " 2177,\n",
       " 2184,\n",
       " 2191,\n",
       " 2198,\n",
       " 2212,\n",
       " 2219,\n",
       " 2226,\n",
       " 2233,\n",
       " 2247,\n",
       " 2254,\n",
       " 2261,\n",
       " 2268,\n",
       " 2282,\n",
       " 2289,\n",
       " 2296,\n",
       " 2303,\n",
       " 2317,\n",
       " 2324,\n",
       " 2331,\n",
       " 2338,\n",
       " 2352,\n",
       " 2359,\n",
       " 2366,\n",
       " 2373,\n",
       " 2387,\n",
       " 2394,\n",
       " 2401,\n",
       " 2408,\n",
       " 2422,\n",
       " 2429,\n",
       " 2436,\n",
       " 2443,\n",
       " 2457,\n",
       " 2464,\n",
       " 2471,\n",
       " 2478,\n",
       " 2492,\n",
       " 2499,\n",
       " 2506,\n",
       " 2513,\n",
       " 2527,\n",
       " 2534,\n",
       " 2541,\n",
       " 2548,\n",
       " 2562,\n",
       " 2569,\n",
       " 2576,\n",
       " 2583,\n",
       " 2597,\n",
       " 2604,\n",
       " 2611,\n",
       " 2618,\n",
       " 2632,\n",
       " 2639,\n",
       " 2646,\n",
       " 2653,\n",
       " 2667,\n",
       " 2674,\n",
       " 2681,\n",
       " 2688,\n",
       " 2702,\n",
       " 2709,\n",
       " 2716,\n",
       " 2723,\n",
       " 2737,\n",
       " 2744,\n",
       " 2751,\n",
       " 2758,\n",
       " 2772,\n",
       " 2779,\n",
       " 2786,\n",
       " 2793,\n",
       " 2807,\n",
       " 2814,\n",
       " 2821,\n",
       " 2828,\n",
       " 2842,\n",
       " 2849,\n",
       " 2856,\n",
       " 2863,\n",
       " 2877,\n",
       " 2884,\n",
       " 2891,\n",
       " 2898,\n",
       " 2912,\n",
       " 2919,\n",
       " 2926,\n",
       " 2933,\n",
       " 2947,\n",
       " 2954,\n",
       " 2961,\n",
       " 2968,\n",
       " 2982,\n",
       " 2989,\n",
       " 2996,\n",
       " 3003,\n",
       " 3017,\n",
       " 3024,\n",
       " 3031,\n",
       " 3038,\n",
       " 3052,\n",
       " 3059,\n",
       " 3066,\n",
       " 3073,\n",
       " 3087,\n",
       " 3094,\n",
       " 3101,\n",
       " 3108,\n",
       " 3122,\n",
       " 3129,\n",
       " 3136,\n",
       " 3143,\n",
       " 3157,\n",
       " 3164,\n",
       " 3171,\n",
       " 3178,\n",
       " 3192,\n",
       " 3199,\n",
       " 3206,\n",
       " 3213,\n",
       " 3227,\n",
       " 3234,\n",
       " 3241,\n",
       " 3248,\n",
       " 3262,\n",
       " 3269,\n",
       " 3276,\n",
       " 3283,\n",
       " 3297,\n",
       " 3304,\n",
       " 3311,\n",
       " 3318,\n",
       " 3332,\n",
       " 3339,\n",
       " 3346,\n",
       " 3353,\n",
       " 3367,\n",
       " 3374,\n",
       " 3381,\n",
       " 3388,\n",
       " 3402,\n",
       " 3409,\n",
       " 3416,\n",
       " 3423,\n",
       " 3437,\n",
       " 3444,\n",
       " 3451,\n",
       " 3458,\n",
       " 3472,\n",
       " 3479,\n",
       " 3486,\n",
       " 3493,\n",
       " 3507,\n",
       " 3514,\n",
       " 3521,\n",
       " 3528,\n",
       " 3542,\n",
       " 3549,\n",
       " 3556,\n",
       " 3563,\n",
       " 3577,\n",
       " 3584,\n",
       " 3591,\n",
       " 3598,\n",
       " 3612,\n",
       " 3619,\n",
       " 3626,\n",
       " 3633,\n",
       " 3647,\n",
       " 3654,\n",
       " 3661,\n",
       " 3668,\n",
       " 3682,\n",
       " 3689,\n",
       " 3696,\n",
       " 3703,\n",
       " 3717,\n",
       " 3724,\n",
       " 3731,\n",
       " 3738,\n",
       " 3752,\n",
       " 3759,\n",
       " 3766,\n",
       " 3773,\n",
       " 3787,\n",
       " 3794,\n",
       " 3801,\n",
       " 3808,\n",
       " 3822,\n",
       " 3829,\n",
       " 3836,\n",
       " 3843,\n",
       " 3857,\n",
       " 3864,\n",
       " 3871,\n",
       " 3878,\n",
       " 3892,\n",
       " 3899,\n",
       " 3906,\n",
       " 3913,\n",
       " 3927,\n",
       " 3934,\n",
       " 3941,\n",
       " 3948,\n",
       " 3962,\n",
       " 3969,\n",
       " 3976,\n",
       " 3983,\n",
       " 3997,\n",
       " 4004,\n",
       " 4011,\n",
       " 4018,\n",
       " 4032,\n",
       " 4039,\n",
       " 4046,\n",
       " 4053,\n",
       " 4067,\n",
       " 4074,\n",
       " 4081,\n",
       " 4088,\n",
       " 4102,\n",
       " 4109,\n",
       " 4116,\n",
       " 4123,\n",
       " 4137,\n",
       " 4144,\n",
       " 4151,\n",
       " 4158,\n",
       " 4172,\n",
       " 4179,\n",
       " 4186,\n",
       " 4193,\n",
       " 4207,\n",
       " 4214,\n",
       " 4221,\n",
       " 4228,\n",
       " 4242,\n",
       " 4249,\n",
       " 4256,\n",
       " 4263,\n",
       " 4277,\n",
       " 4284,\n",
       " 4291,\n",
       " 4298,\n",
       " 4312,\n",
       " 4319,\n",
       " 4326,\n",
       " 4333,\n",
       " 4347,\n",
       " 4354,\n",
       " 4361,\n",
       " 4368,\n",
       " 4382,\n",
       " 4389,\n",
       " 4396,\n",
       " 4403,\n",
       " 4417,\n",
       " 4424,\n",
       " 4431,\n",
       " 4438,\n",
       " 4452,\n",
       " 4459,\n",
       " 4466,\n",
       " 4473,\n",
       " 4487,\n",
       " 4494,\n",
       " 4501,\n",
       " 4508,\n",
       " 4522,\n",
       " 4529,\n",
       " 4536,\n",
       " 4543,\n",
       " 4557,\n",
       " 4564,\n",
       " 4571,\n",
       " 4578,\n",
       " 4592,\n",
       " 4599,\n",
       " 4606,\n",
       " 4613,\n",
       " 4627,\n",
       " 4634,\n",
       " 4641,\n",
       " 4648,\n",
       " 4662,\n",
       " 4669,\n",
       " 4676,\n",
       " 4683,\n",
       " 4697,\n",
       " 4704,\n",
       " 4711,\n",
       " 4718,\n",
       " 4732,\n",
       " 4739,\n",
       " 4746,\n",
       " 4753,\n",
       " 4767,\n",
       " 4774,\n",
       " 4781,\n",
       " 4788,\n",
       " 4802,\n",
       " 4809,\n",
       " 4816,\n",
       " 4823,\n",
       " 4837,\n",
       " 4844,\n",
       " 4851,\n",
       " 4858,\n",
       " 4872,\n",
       " 4879,\n",
       " 4886,\n",
       " 4893,\n",
       " 4907,\n",
       " 4914,\n",
       " 4921,\n",
       " 4928,\n",
       " 4942,\n",
       " 4949,\n",
       " 4956,\n",
       " 4963,\n",
       " 4977,\n",
       " 4984,\n",
       " 4991,\n",
       " 4998]"
      ]
     },
     "execution_count": 27,
     "metadata": {},
     "output_type": "execute_result"
    }
   ],
   "source": [
    "def is_multiply(n, div):\n",
    "    return bool(n%div==0)\n",
    "    \n",
    "def print_div_vals(min, max):\n",
    "    div_val = []\n",
    "    for i in range(min,max):\n",
    "        if is_multiply(i,5) == False  and is_multiply(i,7) == True:\n",
    "            div_val.append(i)\n",
    "    return div_val\n",
    "\n",
    "print_div_vals(1000,5000)"
   ]
  },
  {
   "cell_type": "markdown",
   "metadata": {
    "id": "y4Bv_lUXFQL5"
   },
   "source": [
    "12. Haga una función que calcule el factorial de un numero $n$"
   ]
  },
  {
   "cell_type": "code",
   "execution_count": 39,
   "metadata": {
    "id": "T3H80rS7FQL5"
   },
   "outputs": [
    {
     "name": "stdout",
     "output_type": "stream",
     "text": [
      "120\n"
     ]
    }
   ],
   "source": [
    "def factorial(n):\n",
    "    fac = 1\n",
    "    for i in range(1,n+1):\n",
    "        fac = fac*i\n",
    "    return fac\n",
    "\n",
    "print(factorial(5))"
   ]
  },
  {
   "cell_type": "markdown",
   "metadata": {
    "id": "WznC2GUtFQL6"
   },
   "source": [
    "13. Escriba una función que devuelva un diccionario donde las claves sean los numeros del 1 al $n$ (con $n$ parametro de la función) y en el significado de cada clave este guardado el cuadrado de ese numero.\n",
    "\n",
    "Por ejemplo si a la función le entra un 4 la funcion debe devolver {1:1,2:4,3:9,4:16}"
   ]
  },
  {
   "cell_type": "code",
   "execution_count": 44,
   "metadata": {
    "id": "BTawbcjQFQL6"
   },
   "outputs": [
    {
     "name": "stdout",
     "output_type": "stream",
     "text": [
      "{1: 1, 2: 4, 3: 9, 4: 16, 5: 25, 6: 36, 7: 49, 8: 64, 9: 81, 10: 100}\n"
     ]
    }
   ],
   "source": [
    "def func_sq(n):\n",
    "    dic = {}\n",
    "    for i in range(1,n+1):\n",
    "        dic[i] = i**2\n",
    "    return dic\n",
    "\n",
    "print(func_sq(10))"
   ]
  },
  {
   "cell_type": "markdown",
   "metadata": {
    "id": "YuzBKZ-BFQL6"
   },
   "source": [
    "14. Escriba una función que tome una lista de enteros y devuelva una lista de lista, donde cada lista contenga los divisores del numero correspondiente.\n",
    "\n",
    "Por ejemplo si función toma como entrada [3,6,12,11], la salida debe ser [[1,3],[1,2,3,6],[1,2,3,6,12],[1,11]]"
   ]
  },
  {
   "cell_type": "code",
   "execution_count": null,
   "metadata": {
    "id": "fOwkP7seFQL6"
   },
   "outputs": [],
   "source": [
    "def lista_de_divisores(n):\n",
    "    lista_de_divisores_for = []\n",
    "    for i in range(1,n+1):\n",
    "        if n%i==0:\n",
    "            lista_de_divisores_for.append(i)\n",
    "    return lista_de_divisores_for\n",
    "\n",
    "def func_div(li):\n",
    "    \n",
    "\n",
    "print(func_div([3,6,12,11]))"
   ]
  },
  {
   "cell_type": "markdown",
   "metadata": {
    "id": "FXDWsbdxFQL6"
   },
   "source": [
    "15. Escriba una función que tome un numero entero y devuelva una lista con tuplas con los numeros primos que lo dividen y la cantidad de veces que el numero primo lo divide.\n",
    "\n",
    "Por ejemplo, si entra el número 2223000 la función debe devolver: [(2,3),(3,2),(13,1),(19,1)] pues $2^3 \\times 3^2 \\times 13^1 \\times 19^1 = 2223000$"
   ]
  },
  {
   "cell_type": "code",
   "execution_count": null,
   "metadata": {
    "id": "hi1chKrCFQL6"
   },
   "outputs": [],
   "source": [
    "\"\"\"\n",
    "Esto es una tupla en python, puede tener una cantidad fija \n",
    "pero arbitraria de elementos (es decir puede ser tan grande\n",
    "como se quiera pero no puede mutar)\"\"\"\n",
    "tupla = (3,6) "
   ]
  },
  {
   "cell_type": "code",
   "execution_count": null,
   "metadata": {
    "id": "Fr62PgMTHCp1"
   },
   "outputs": [],
   "source": [
    "def getPrimeFactor(inputVal:int) -> list:\n",
    "  #<CODIGO>\n",
    "  pass\n",
    "\n",
    "print(getPrimeFactor(12345))"
   ]
  },
  {
   "cell_type": "markdown",
   "metadata": {
    "id": "gFcGTx0NFQL6"
   },
   "source": [
    "16. Un número palíndromo se lee del derecho y el reves de la misma forma. El palindrome hecho por el producto de dos numeros de dos digitos mas grande es 9009 pues es producto de $91*99$\n",
    "\n",
    "Escriba un código para crear el palindromo más grande hecho por el pruducto de 2 numeros de 3 digitos\n",
    "\n",
    "Nota: Este ejercicio fue tomado de: https://projecteuler.net/problem=4\n"
   ]
  },
  {
   "cell_type": "code",
   "execution_count": null,
   "metadata": {
    "id": "WgotEi_rFQL7"
   },
   "outputs": [],
   "source": []
  },
  {
   "cell_type": "markdown",
   "metadata": {
    "id": "e_30k7tbFQL7"
   },
   "source": [
    "17. Escriba una función que devuelve el $i-esimo$ número de la sucesión de Fibonacci  (https://en.wikipedia.org/wiki/Fibonacci_number)"
   ]
  },
  {
   "cell_type": "code",
   "execution_count": null,
   "metadata": {
    "id": "hKZjzKG_FQL7"
   },
   "outputs": [],
   "source": [
    "def fibo(n: int):\n",
    "  #<CODIGO>\n",
    "  pass\n",
    "\n",
    "print([fibo(num) for num in range(0,10)])"
   ]
  }
 ],
 "metadata": {
  "colab": {
   "collapsed_sections": [],
   "name": "AdA_01_Python_Basics_b.ipynb",
   "provenance": [],
   "toc_visible": true
  },
  "kernelspec": {
   "display_name": "Python 3 (ipykernel)",
   "language": "python",
   "name": "python3"
  },
  "language_info": {
   "codemirror_mode": {
    "name": "ipython",
    "version": 3
   },
   "file_extension": ".py",
   "mimetype": "text/x-python",
   "name": "python",
   "nbconvert_exporter": "python",
   "pygments_lexer": "ipython3",
   "version": "3.9.7"
  }
 },
 "nbformat": 4,
 "nbformat_minor": 1
}
